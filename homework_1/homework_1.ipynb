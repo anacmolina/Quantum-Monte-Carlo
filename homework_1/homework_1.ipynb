{
 "cells": [
  {
   "cell_type": "code",
   "execution_count": 4,
   "metadata": {},
   "outputs": [],
   "source": [
    "import random\n",
    "import numpy as np"
   ]
  },
  {
   "cell_type": "code",
   "execution_count": null,
   "metadata": {},
   "outputs": [],
   "source": [
    "class Particle:\n",
    "    def __init__(self, particle_type='classical'):\n",
    "        \"\"\"Initialize a particle\"\"\"\n",
    "        self.particle_type = particle_type\n",
    "\n",
    "    def get_particle_type(self):\n",
    "        \"\"\"Get the particle type\"\"\"\n",
    "        return self.particle_type\n",
    "    \n",
    "    def set_particle_type(self, particle_type):\n",
    "        \"\"\"Set the particle type\"\"\"\n",
    "        self.particle_type = particle_type\n",
    "\n",
    "    def set_    \n"
   ]
  },
  {
   "cell_type": "code",
   "execution_count": 5,
   "metadata": {},
   "outputs": [],
   "source": [
    "# Harmonic oscillator potential\n",
    "def V_(x):\n",
    "    return 0.5*x**2\n",
    "\n",
    "# Classic particle probability\n",
    "def classical_particle_probability(x, V, T):\n",
    "    beta = 1/T\n",
    "    return np.exp(-beta*V(x))\n",
    "\n",
    "# Quantum particle wave function\n",
    "\n",
    "#def wave_function_0(x, T):"
   ]
  },
  {
   "cell_type": "code",
   "execution_count": 6,
   "metadata": {},
   "outputs": [
    {
     "data": {
      "text/plain": [
       "0.9933555062550344"
      ]
     },
     "execution_count": 6,
     "metadata": {},
     "output_type": "execute_result"
    }
   ],
   "source": [
    "classical_particle_probability(2, V_, 300)"
   ]
  },
  {
   "cell_type": "code",
   "execution_count": 7,
   "metadata": {},
   "outputs": [],
   "source": [
    "def psi_0(x):\n",
    "    return (1/np.pi**(1/4))*np.exp(-x**2/2)"
   ]
  },
  {
   "cell_type": "code",
   "execution_count": null,
   "metadata": {},
   "outputs": [],
   "source": [
    "def E_n(n):\n",
    "    return n + 0.5"
   ]
  },
  {
   "cell_type": "code",
   "execution_count": null,
   "metadata": {},
   "outputs": [],
   "source": [
    "def pi(x):\n",
    "    return psi_0(x)**2"
   ]
  },
  {
   "cell_type": "code",
   "execution_count": null,
   "metadata": {},
   "outputs": [],
   "source": [
    "x = 0.0\n",
    "delta = 0.5\n",
    "n_steps = 1000\n",
    "\n",
    "# for k in range(n_steps):\n",
    "#     x_new = x + random.uniform(-delta, delta)\n",
    "#     if random.uniform(0.0, 1.0) < np.abs(p:\n",
    "#         x = x_new\n",
    "#     print(x"
   ]
  }
 ],
 "metadata": {
  "kernelspec": {
   "display_name": "qmc",
   "language": "python",
   "name": "python3"
  },
  "language_info": {
   "codemirror_mode": {
    "name": "ipython",
    "version": 3
   },
   "file_extension": ".py",
   "mimetype": "text/x-python",
   "name": "python",
   "nbconvert_exporter": "python",
   "pygments_lexer": "ipython3",
   "version": "3.10.11"
  },
  "orig_nbformat": 4
 },
 "nbformat": 4,
 "nbformat_minor": 2
}
